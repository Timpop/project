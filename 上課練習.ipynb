{
 "cells": [
  {
   "cell_type": "code",
   "execution_count": 2,
   "metadata": {
    "collapsed": false
   },
   "outputs": [
    {
     "name": "stdout",
     "output_type": "stream",
     "text": [
      "談公道伯粉專　王金平：儘量回應鄉民(0)\n"
     ]
    }
   ],
   "source": [
    "import requests\n",
    "from bs4 import BeautifulSoup\n",
    "res = requests.get('http://www.appledaily.com.tw/realtimenews/section/new/')\n",
    "soup = BeautifulSoup(res.text)\n",
    "for ele in soup.select('#maincontent a'):\n",
    "    if len(ele.select('font')) > 0:\n",
    "        if '王金平'.decode('utf-8') in ele.select('font')[0].text :\n",
    "            print ele.select('font')[0].text"
   ]
  },
  {
   "cell_type": "code",
   "execution_count": 3,
   "metadata": {
    "collapsed": false
   },
   "outputs": [
    {
     "data": {
      "text/html": [
       "<div>\n",
       "<table border=\"1\" class=\"dataframe\">\n",
       "  <thead>\n",
       "    <tr style=\"text-align: right;\">\n",
       "      <th></th>\n",
       "      <th>count</th>\n",
       "      <th>title</th>\n",
       "    </tr>\n",
       "  </thead>\n",
       "  <tbody>\n",
       "    <tr>\n",
       "      <th>248</th>\n",
       "      <td>518753</td>\n",
       "      <td>【更新】屁孩ＧＧ了！一次撞兩台　名車＋跑...</td>\n",
       "    </tr>\n",
       "    <tr>\n",
       "      <th>497</th>\n",
       "      <td>394928</td>\n",
       "      <td>【更新】惡房東張淑晶又告人　這回踢鐵板</td>\n",
       "    </tr>\n",
       "    <tr>\n",
       "      <th>502</th>\n",
       "      <td>270232</td>\n",
       "      <td>【獨家】2賤狼撿屍　載到凶案現場性侵</td>\n",
       "    </tr>\n",
       "    <tr>\n",
       "      <th>449</th>\n",
       "      <td>268708</td>\n",
       "      <td>結婚前六天　才知婚禮場地「兩個新娘」！</td>\n",
       "    </tr>\n",
       "    <tr>\n",
       "      <th>540</th>\n",
       "      <td>183594</td>\n",
       "      <td>鯉魚刺得不像　少年父怒告刺青師</td>\n",
       "    </tr>\n",
       "  </tbody>\n",
       "</table>\n",
       "</div>"
      ],
      "text/plain": [
       "      count                    title\n",
       "248  518753  【更新】屁孩ＧＧ了！一次撞兩台　名車＋跑...\n",
       "497  394928      【更新】惡房東張淑晶又告人　這回踢鐵板\n",
       "502  270232       【獨家】2賤狼撿屍　載到凶案現場性侵\n",
       "449  268708      結婚前六天　才知婚禮場地「兩個新娘」！\n",
       "540  183594          鯉魚刺得不像　少年父怒告刺青師"
      ]
     },
     "execution_count": 3,
     "metadata": {},
     "output_type": "execute_result"
    }
   ],
   "source": [
    "import pandas as pd\n",
    "df = pd.DataFrame(ary)\n",
    "df.sort(['count'], ascending=False).head()"
   ]
  },
  {
   "cell_type": "code",
   "execution_count": 4,
   "metadata": {
    "collapsed": true
   },
   "outputs": [],
   "source": [
    "import requests\n",
    "from bs4 import BeautifulSoup\n",
    "import re\n",
    "ary = []\n",
    "for i in range(1,20):\n",
    "    res = requests.get('http://www.appledaily.com.tw/realtimenews/section/new/%d'%(i))\n",
    "    soup = BeautifulSoup(res.text)\n",
    "    for ele in soup.select('#maincontent a'):\n",
    "        if len(ele.select('font')) > 0:\n",
    "            m = re.match('(.*)\\((\\d+)\\)', ele.select('font')[0].text)\n",
    "            if m:\n",
    "                ary.append({'title':m.group(1), 'count':int(m.group(2))})"
   ]
  },
  {
   "cell_type": "code",
   "execution_count": 12,
   "metadata": {
    "collapsed": false
   },
   "outputs": [],
   "source": [
    "import requests\n",
    "from bs4 import BeautifulSoup\n",
    "import re\n",
    "ary = []\n",
    "ind  = []\n",
    "res = requests.get('http://www.appledaily.com.tw/realtimenews/section/new/1')\n",
    "soup = BeautifulSoup(res.text)\n",
    "for ele in soup.select('.rtddt'):\n",
    "    if len(ele.select('font')) > 0:\n",
    "        ind.append(ele.select('a')[0]['href'])\n",
    "        ary.append(ele.select('font')[0].text)"
   ]
  },
  {
   "cell_type": "code",
   "execution_count": 15,
   "metadata": {
    "collapsed": true
   },
   "outputs": [],
   "source": [
    "class Person():\n",
    "    count = 0 # Static/class variable\n",
    "    def __init__(self, name, city):\n",
    "        self.name = name # Variable for the instance\n",
    "        self.city = city # Variable for the instance\n",
    "        Person.count += 1\n",
    "    def number_of_persons(self):\n",
    "        return Person.count"
   ]
  },
  {
   "cell_type": "code",
   "execution_count": 16,
   "metadata": {
    "collapsed": false
   },
   "outputs": [
    {
     "name": "stdout",
     "output_type": "stream",
     "text": [
      "1\n"
     ]
    }
   ],
   "source": [
    "first = Person(\"David\", \"Chiayi\")\n",
    "print first.number_of_persons()"
   ]
  },
  {
   "cell_type": "code",
   "execution_count": 17,
   "metadata": {
    "collapsed": false
   },
   "outputs": [
    {
     "name": "stdout",
     "output_type": "stream",
     "text": [
      "2\n"
     ]
    }
   ],
   "source": [
    "second = Person(\"Qoo\", \"Taipei\")\n",
    "print second.number_of_persons()"
   ]
  },
  {
   "cell_type": "code",
   "execution_count": 18,
   "metadata": {
    "collapsed": true
   },
   "outputs": [],
   "source": [
    "class MyInteger():\n",
    "    def __init__(self, integer):\n",
    "        print \"constructor\"\n",
    "        self.integer = integer\n",
    "    def __add__(self, integer): # Overloaded '+' operator\n",
    "        if self.integer == 2 and integer == 2:\n",
    "            return 5\n",
    "        else:\n",
    "            return self.integer + integer"
   ]
  },
  {
   "cell_type": "code",
   "execution_count": 19,
   "metadata": {
    "collapsed": false
   },
   "outputs": [
    {
     "name": "stdout",
     "output_type": "stream",
     "text": [
      "constructor\n"
     ]
    }
   ],
   "source": [
    "a = MyInteger(2)"
   ]
  },
  {
   "cell_type": "code",
   "execution_count": 20,
   "metadata": {
    "collapsed": false
   },
   "outputs": [
    {
     "data": {
      "text/plain": [
       "3"
      ]
     },
     "execution_count": 20,
     "metadata": {},
     "output_type": "execute_result"
    }
   ],
   "source": [
    "a+1"
   ]
  },
  {
   "cell_type": "code",
   "execution_count": 21,
   "metadata": {
    "collapsed": false
   },
   "outputs": [
    {
     "data": {
      "text/plain": [
       "5"
      ]
     },
     "execution_count": 21,
     "metadata": {},
     "output_type": "execute_result"
    }
   ],
   "source": [
    "a+2\n"
   ]
  },
  {
   "cell_type": "code",
   "execution_count": 23,
   "metadata": {
    "collapsed": false
   },
   "outputs": [
    {
     "name": "stdout",
     "output_type": "stream",
     "text": [
      "[('the', 105), ('of', 53), ('in', 39), ('and', 38), ('a', 37), ('Louisiana', 33), ('7', 32), ('shooting', 32), ('theater', 28), ('Police', 26), ('The', 26), ('Lafayette,', 21), ('at', 21), ('to', 20), ('was', 17), ('Lafayette', 16), ('Hide', 15), ('Movie', 15), ('Caption', 15), ('photos', 15), ('an', 15), ('near', 14), ('State', 12), ('shooting.', 12), ('said', 12), ('scene', 11), ('said.', 11), ('Department', 10), ('entrance', 10), ('Grand', 10), ('with', 10), ('he', 10), ('movie', 9), ('is', 9), ('scene.', 8), ('on', 8), ('lafayette', 7), ('road', 6), ('Gov.', 6), ('block', 6), ('that', 6), ('shooter', 6), ('his', 6), ('she', 6), ('it', 6), ('units', 6), ('just', 6), ('night', 6), ('Jindal,', 6), ('Police.', 6)]\n"
     ]
    }
   ],
   "source": [
    "import operator\n",
    "sorted_x = sorted(dic.items(), key=operator.itemgetter(1), reverse=True)\n",
    "print sorted_x[0:50]"
   ]
  },
  {
   "cell_type": "code",
   "execution_count": 26,
   "metadata": {
    "collapsed": false
   },
   "outputs": [
    {
     "name": "stdout",
     "output_type": "stream",
     "text": [
      "Help on built-in function sorted in module __builtin__:\n",
      "\n",
      "sorted(...)\n",
      "    sorted(iterable, cmp=None, key=None, reverse=False) --> new sorted list\n",
      "\n"
     ]
    }
   ],
   "source": [
    "help(sorted)"
   ]
  },
  {
   "cell_type": "code",
   "execution_count": 29,
   "metadata": {
    "collapsed": false
   },
   "outputs": [
    {
     "name": "stdout",
     "output_type": "stream",
     "text": [
      "Help on function post in module requests.api:\n",
      "\n",
      "post(url, data=None, json=None, **kwargs)\n",
      "    Sends a POST request.\n",
      "    \n",
      "    :param url: URL for the new :class:`Request` object.\n",
      "    :param data: (optional) Dictionary, bytes, or file-like object to send in the body of the :class:`Request`.\n",
      "    :param json: (optional) json data to send in the body of the :class:`Request`.\n",
      "    :param \\*\\*kwargs: Optional arguments that ``request`` takes.\n",
      "    :return: :class:`Response <Response>` object\n",
      "    :rtype: requests.Response\n",
      "\n"
     ]
    }
   ],
   "source": [
    "help(requests.post)"
   ]
  },
  {
   "cell_type": "code",
   "execution_count": 11,
   "metadata": {
    "collapsed": false
   },
   "outputs": [
    {
     "name": "stdout",
     "output_type": "stream",
     "text": [
      "高鼎英文補習班 台南市新營區綠川北街65號 066376381\n",
      "許鎮高中英文補習班 台東縣台東市寧波街6號 089353305\n",
      "李捷英文補習班 新北市三重區力行路二段182號2樓 0222879393\n",
      "杜老師英文補習班 台北市莊敬路300號2樓 0287874282\n",
      "沈老師英文補習班 台北市昆明街121號2樓 0223822292\n",
      "琴森英文補習班 台北市內湖路一段309號1樓及地下1樓 0227988342\n",
      "碧老師英文補習班 台北市北安路630巷25弄9號1樓 0225338812\n",
      "嘉義市私立黃氏英語國語正音短期職業補習班 嘉義市民族路874號 052332776\n",
      "私立Ｅ－Ｚ語文短期補習班 南投縣埔里鎮民生路77號 0492990082\n",
      "私立立進電腦美語文理短期補習班 桃園市桃園區同安街550號 033570003\n",
      "私立立進電腦美語文理短期補習班 桃園市桃園區同安街550號1至3樓 033586817\n",
      "私立薇薇安美語補習班 高雄市左營區華夏路979號 073415000\n",
      "嘉義市私立學思園文理短期補習班 嘉義市南京路398號3樓 052368766\n",
      "臺北市私立北一文理短期補習班 台北市中正區信義路二段271號5樓 0223936666\n",
      "臺北市私立北一文理短期補習班 台北市中正區南陽街14號 0223149450\n",
      "台北市私立北一文理短期補習班 台北市大安區信義路三段7號1樓 0227007125-1\n",
      "台北市私立北一文理短期補習班 台北市中正區南陽街14號 0223146727\n",
      "私立嘉耘文理短期補習班 高雄市左營區文恩路26號1之3樓 073496700\n",
      "雲林縣私立吳爾夫英文文理短期補習班 雲林縣虎尾鎮大成街301號 056311555-1\n",
      "雲林縣私立世界文理美語短期補習班 雲林縣斗六市雲林路一段180巷9號 055329149-2\n"
     ]
    }
   ],
   "source": [
    "import requests\n",
    "from bs4 import BeautifulSoup\n",
    "for pg in range(0,2):\n",
    "    res = requests.get('https://www.iyp.com.tw/search.php?a_id=&k=%E8%8B%B1%E6%96%87+%E8%A3%9C%E7%BF%92%E7%8F%AD&p={0}'.format(pg))\n",
    "    #print res.encoding\n",
    "    res.encoding = 'utf-8'\n",
    "\n",
    "    soup = BeautifulSoup(res.text)\n",
    "    for ele in soup.select('.general li'):\n",
    "        if len(ele.select('h3')) > 0:\n",
    "            print ele.select('h3')[0].text, \\\n",
    "                  ele.select('.view-map')[0]['go-map'].split('&k=')[1], \\\n",
    "                  ele.select('a')[0]['href'].split('www.iyp.com.tw/')[1].split('/')[0]"
   ]
  },
  {
   "cell_type": "code",
   "execution_count": 13,
   "metadata": {
    "collapsed": false
   },
   "outputs": [
    {
     "ename": "NameError",
     "evalue": "name 'page_number' is not defined",
     "output_type": "error",
     "traceback": [
      "\u001b[1;31m---------------------------------------------------------------------------\u001b[0m",
      "\u001b[1;31mNameError\u001b[0m                                 Traceback (most recent call last)",
      "\u001b[1;32m<ipython-input-13-497936beca66>\u001b[0m in \u001b[0;36m<module>\u001b[1;34m()\u001b[0m\n\u001b[0;32m      1\u001b[0m \u001b[0mbid_file\u001b[0m \u001b[1;33m=\u001b[0m \u001b[0mopen\u001b[0m\u001b[1;33m(\u001b[0m\u001b[1;34m\"bid_list.txt\"\u001b[0m\u001b[1;33m,\u001b[0m \u001b[1;34m'w'\u001b[0m\u001b[1;33m)\u001b[0m\u001b[1;33m\u001b[0m\u001b[0m\n\u001b[0;32m      2\u001b[0m \u001b[0mpage_format\u001b[0m \u001b[1;33m=\u001b[0m\u001b[1;34m\"http://web.pcc.gov.tw/tps/pss/tender.do?searchMode=common&searchType=advance&searchTarget=ATM&method=search&isSpdt=&pageIndex=%d\"\u001b[0m\u001b[1;33m\u001b[0m\u001b[0m\n\u001b[1;32m----> 3\u001b[1;33m \u001b[1;32mfor\u001b[0m \u001b[0mpage\u001b[0m \u001b[1;32min\u001b[0m \u001b[0mrange\u001b[0m\u001b[1;33m(\u001b[0m\u001b[1;36m1\u001b[0m\u001b[1;33m,\u001b[0m \u001b[0mpage_number\u001b[0m \u001b[1;33m+\u001b[0m \u001b[1;36m1\u001b[0m\u001b[1;33m)\u001b[0m\u001b[1;33m:\u001b[0m\u001b[1;33m\u001b[0m\u001b[0m\n\u001b[0m\u001b[0;32m      4\u001b[0m     \u001b[0mbid_list\u001b[0m \u001b[1;33m=\u001b[0m \u001b[0mrs\u001b[0m\u001b[1;33m.\u001b[0m\u001b[0mget\u001b[0m\u001b[1;33m(\u001b[0m\u001b[0mpage_format\u001b[0m\u001b[1;33m%\u001b[0m\u001b[1;33m(\u001b[0m\u001b[0mpage\u001b[0m\u001b[1;33m)\u001b[0m\u001b[1;33m)\u001b[0m\u001b[1;33m\u001b[0m\u001b[0m\n\u001b[0;32m      5\u001b[0m     \u001b[0mbid_response\u001b[0m \u001b[1;33m=\u001b[0m \u001b[0mbid_list\u001b[0m\u001b[1;33m.\u001b[0m\u001b[0mtext\u001b[0m\u001b[1;33m.\u001b[0m\u001b[0mencode\u001b[0m\u001b[1;33m(\u001b[0m\u001b[1;34m'utf8'\u001b[0m\u001b[1;33m)\u001b[0m\u001b[1;33m\u001b[0m\u001b[0m\n",
      "\u001b[1;31mNameError\u001b[0m: name 'page_number' is not defined"
     ]
    }
   ],
   "source": [
    "bid_file = open(\"bid_list.txt\", 'w')\n",
    "page_format =\"http://web.pcc.gov.tw/tps/pss/tender.do?searchMode=common&searchType=advance&searchTarget=ATM&method=search&isSpdt=&pageIndex=%d\"\n",
    "for page in range(1, page_number + 1):\n",
    "    bid_list = rs.get(page_format%(page))\n",
    "    bid_response = bid_list.text.encode('utf8')\n",
    "    bid_soup = BeautifulSoup(bid_response)\n",
    "    bid_table = bid_soup.select(\"#print_area\") [0]\n",
    "    bid_rows = bid_table.select('tr')[1:-1]\n",
    "    for bid_row in bid_rows:\n",
    "        link_href = \"http://web.pcc.gov.tw/tps\" +bid_row.select('a')[0]['href'][2:]\n",
    "        bid_file.write(link_href + \"\\n\")\n",
    "bid_file.close()"
   ]
  },
  {
   "cell_type": "code",
   "execution_count": 14,
   "metadata": {
    "collapsed": true
   },
   "outputs": [],
   "source": [
    "import requests\n",
    "payload = { 'method':'search', 'searchMethod':'true', 'searchTarget':'ATM',\n",
    "'orgName':'', 'orgId':'', 'hid_1':'1',\n",
    "'tenderName':'', 'tenderId':'', 'tenderStatus':'4,5,21,29',\n",
    "'tenderWay':'', 'awardAnnounceStartDate':'104/07/24',\n",
    "'awardAnnounceEndDate':'104/07/24', 'radProctrgCate':'3',\n",
    "'proctrgCate':'3', 'tenderRange':'', 'minBudget':'',\n",
    "'maxBudget':'', 'item':'','hid_2':'1',\n",
    "'gottenVendorName':'', 'gottenVendorId':'', 'hid_3':'1',\n",
    "'submitVendorName':'', 'submitVendorId':'', 'location':'',\n",
    "'priorityCate':'', 'isReConstruct':'', 'btnQuery':'查詢' }"
   ]
  },
  {
   "cell_type": "code",
   "execution_count": 15,
   "metadata": {
    "collapsed": true
   },
   "outputs": [],
   "source": [
    "user_post = requests.post(\"http://web.pcc.gov.tw/tps/pss/tender.do?searchMode=common&searchType=advance\", data=payload)\n",
    "response_text = user_post.text.encode('utf8')"
   ]
  },
  {
   "cell_type": "code",
   "execution_count": 16,
   "metadata": {
    "collapsed": false
   },
   "outputs": [
    {
     "name": "stdout",
     "output_type": "stream",
     "text": [
      "[<span class=\"T11b\" style=\"color: red;\">214</span>]\n",
      "<span class=\"T11b\" style=\"color: red;\">214</span>\n",
      "214\n"
     ]
    }
   ],
   "source": [
    "user_post =requests.post(\"http://web.pcc.gov.tw/tps/pss/tender.do?searchMode=common&searchType=advance\", data=payload)\n",
    "response_text = user_post.text.encode('utf8')\n",
    "soup = BeautifulSoup(response_text)\n",
    "print soup.select('.T11b')\n",
    "print soup.select('.T11b')[0]\n",
    "print soup.select('.T11b')[0].text"
   ]
  },
  {
   "cell_type": "code",
   "execution_count": 17,
   "metadata": {
    "collapsed": false
   },
   "outputs": [
    {
     "name": "stdout",
     "output_type": "stream",
     "text": [
      "214\n"
     ]
    }
   ],
   "source": [
    "rec_number_element = soup.select('.T11b')[0]\n",
    "rec_number = int(rec_number_element.text)\n",
    "print rec_number"
   ]
  },
  {
   "cell_type": "code",
   "execution_count": 18,
   "metadata": {
    "collapsed": false
   },
   "outputs": [
    {
     "name": "stdout",
     "output_type": "stream",
     "text": [
      "3\n"
     ]
    }
   ],
   "source": [
    "import math\n",
    "page_number = int(math.ceil(float(rec_number) / 100))\n",
    "print page_number"
   ]
  },
  {
   "cell_type": "code",
   "execution_count": 21,
   "metadata": {
    "collapsed": false
   },
   "outputs": [],
   "source": [
    "bid_file = open(\"bid_list.txt\", 'w')\n",
    "page_format =\"http://web.pcc.gov.tw/tps/pss/tender.do?searchMode=common&searchType=advance&searchTarget=ATM&method=search&isSpdt=&pageIndex=%d\"\n",
    "for page in range(1, page_number + 1):\n",
    "    bid_list = rs.get(page_format%(page))\n",
    "    bid_response = bid_list.text.encode('utf8')\n",
    "    bid_soup = BeautifulSoup(bid_response)\n",
    "    bid_table = bid_soup.select(\"#print_area\") [0]\n",
    "    bid_rows = bid_table.select('tr')[1:-1]\n",
    "    for bid_row in bid_rows:\n",
    "        link_href = \"http://web.pcc.gov.tw/tps\" +bid_row.select('a')[0]['href'][2:]\n",
    "        bid_file.write(link_href + \"\\n\")\n",
    "bid_file.close()"
   ]
  },
  {
   "cell_type": "code",
   "execution_count": 20,
   "metadata": {
    "collapsed": false
   },
   "outputs": [
    {
     "name": "stdout",
     "output_type": "stream",
     "text": [
      "<class 'requests.sessions.Session'>\n"
     ]
    }
   ],
   "source": [
    "rs = requests.session()\n",
    "print type(rs)\n",
    "rs_post =rs.post(\"http://web.pcc.gov.tw/tps/pss/tender.do?searchMode=common&searchType=advance\", data=payload)\n",
    "rs_get =rs.get(\"http://web.pcc.gov.tw/tps/pss/tender.do?searchMode=common&searchType=advance&searchTarget=ATM&method=search&isSpdt=&pageIndex=2\")\n",
    "response = rs_get.text.encode('utf8')"
   ]
  },
  {
   "cell_type": "code",
   "execution_count": 24,
   "metadata": {
    "collapsed": true
   },
   "outputs": [],
   "source": [
    "from bs4 import BeautifulSoup\n",
    "f = open('bid_detail.txt', 'w')\n",
    "soup = BeautifulSoup(res.text)\n",
    "#f.write(soup.select('#printArea')[0])\n",
    "#print type(soup.select('#printArea')[0])\n",
    "detail = soup.select('#printArea')[0].prettify('utf-8')\n",
    "f.write(detail)\n",
    "f.close()"
   ]
  },
  {
   "cell_type": "code",
   "execution_count": 2,
   "metadata": {
    "collapsed": false
   },
   "outputs": [
    {
     "ename": "IOError",
     "evalue": "[Errno 22] invalid mode ('r') or filename: '\\xe6\\x94\\xbf\\xe5\\xba\\x9c\\xe9\\x9b\\xbb\\xe5\\xad\\x90\\xe6\\x8e\\xa1\\xe8\\xb3\\xbc\\xe7\\xb6\\xb2.txt'",
     "output_type": "error",
     "traceback": [
      "\u001b[1;31m---------------------------------------------------------------------------\u001b[0m",
      "\u001b[1;31mIOError\u001b[0m                                   Traceback (most recent call last)",
      "\u001b[1;32m<ipython-input-2-96232874f38e>\u001b[0m in \u001b[0;36m<module>\u001b[1;34m()\u001b[0m\n\u001b[1;32m----> 1\u001b[1;33m \u001b[0mf\u001b[0m \u001b[1;33m=\u001b[0m \u001b[0mopen\u001b[0m\u001b[1;33m(\u001b[0m\u001b[1;34m'政府電子採購網.txt'\u001b[0m\u001b[1;33m,\u001b[0m \u001b[1;34m'r'\u001b[0m\u001b[1;33m)\u001b[0m\u001b[1;33m\u001b[0m\u001b[0m\n\u001b[0m\u001b[0;32m      2\u001b[0m \u001b[0mresponse_text\u001b[0m \u001b[1;33m=\u001b[0m \u001b[0mf\u001b[0m\u001b[1;33m.\u001b[0m\u001b[0mread\u001b[0m\u001b[1;33m(\u001b[0m\u001b[1;33m)\u001b[0m\u001b[1;33m\u001b[0m\u001b[0m\n\u001b[0;32m      3\u001b[0m \u001b[0mf\u001b[0m\u001b[1;33m.\u001b[0m\u001b[0mclose\u001b[0m\u001b[1;33m(\u001b[0m\u001b[1;33m)\u001b[0m\u001b[1;33m\u001b[0m\u001b[0m\n",
      "\u001b[1;31mIOError\u001b[0m: [Errno 22] invalid mode ('r') or filename: '\\xe6\\x94\\xbf\\xe5\\xba\\x9c\\xe9\\x9b\\xbb\\xe5\\xad\\x90\\xe6\\x8e\\xa1\\xe8\\xb3\\xbc\\xe7\\xb6\\xb2.txt'"
     ]
    }
   ],
   "source": [
    "f = open('政府電子採購網.txt', 'r')\n",
    "response_text = f.read()\n",
    "f.close()"
   ]
  },
  {
   "cell_type": "code",
   "execution_count": 3,
   "metadata": {
    "collapsed": true
   },
   "outputs": [],
   "source": [
    "f = open('gov/51603189_1040202.txt', 'r')\n",
    "response_text = f.read()\n",
    "f.close()"
   ]
  },
  {
   "cell_type": "code",
   "execution_count": 9,
   "metadata": {
    "collapsed": false
   },
   "outputs": [
    {
     "name": "stdout",
     "output_type": "stream",
     "text": [
      "3.13.2\n"
     ]
    }
   ],
   "source": [
    "from bs4 import BeautifulSoup as BS\n",
    "soup = BS(response_text)\n",
    "for row in soup.select('tr'):\n",
    "    th = row.select('th')    \n",
    "    if len(th) > 0 :\n",
    "        if th[0].text.encode('utf-8').strip() == '機關代碼':\n",
    "            print row.select('td')[0].text.strip()"
   ]
  },
  {
   "cell_type": "code",
   "execution_count": 10,
   "metadata": {
    "collapsed": false
   },
   "outputs": [
    {
     "name": "stdout",
     "output_type": "stream",
     "text": [
      "3.13.2\n",
      "經濟部工業局\n",
      "110臺北市信義區信義路路三段41-3號\n",
      "軟體採購辦公室\n",
      "(02)66072558\n"
     ]
    }
   ],
   "source": [
    "dic = {\"機關代碼\":\"\", \"機關名稱\":\"\", \"機關地址\":\"\", \"聯絡人\": \"\", \"聯絡電話\": \"\"}\n",
    "\n",
    "for row in soup.select('tr.award_table_tr_1'):\n",
    "    th = row.select('th')\n",
    "    if len(th) > 0 :\n",
    "        if th[0].text.encode('utf-8').strip() in dic:\n",
    "            print row.select('td')[0].text.strip()       "
   ]
  },
  {
   "cell_type": "code",
   "execution_count": 14,
   "metadata": {
    "collapsed": false
   },
   "outputs": [
    {
     "name": "stdout",
     "output_type": "stream",
     "text": [
      "SQLite version: 3.6.21\n"
     ]
    }
   ],
   "source": [
    "import sqlite3 as lite \n",
    "import sys\n",
    "con = None\n",
    "try:\n",
    "    con = lite.connect('test.db') # connect to database\n",
    "    cur = con.cursor() # create cursor\n",
    "    cur.execute('SELECT SQLITE_VERSION()') # select database version \n",
    "    data = cur.fetchone() # fetch one data at a time\n",
    "    print \"SQLite version: %s\" % data\n",
    "except lite.Error, e:\n",
    "    print \"Error %s:\" % e.args[0] \n",
    "    sys.exit(1)\n",
    "finally:\n",
    "    if con:\n",
    "        con.close()"
   ]
  },
  {
   "cell_type": "code",
   "execution_count": 15,
   "metadata": {
    "collapsed": false
   },
   "outputs": [
    {
     "name": "stdout",
     "output_type": "stream",
     "text": [
      "[(u'0912173381', u'United State'), (u'0928375018', u'Tokyo Japan'), (u'0957209108', u'Taipei')]\n",
      "0912173381 United State\n",
      "0928375018 Tokyo Japan\n",
      "0957209108 Taipei\n"
     ]
    }
   ],
   "source": [
    "import sqlite3 as lite\n",
    "import sys\n",
    "con = lite.connect(\"test.db\")\n",
    "with con:\n",
    "    cur = con.cursor() # Drop Table If Exisits\n",
    "    cur.execute(\"DROP TABLE IF EXISTS PhoneAddress\")\n",
    "    cur.execute(\"CREATE TABLE PhoneAddress(phone CHAR(10) PRIMARY KEY, address TEXT, name TEXT unique, age INT NOT NULL)\")\n",
    "    cur.execute(\"INSERT INTO PhoneAddress VALUES('0912173381','United State','Jhon Doe',53)\") \n",
    "    cur.execute(\"INSERT INTO PhoneAddress VALUES('0928375018','Tokyo Japan','MuMu Cat',6)\") \n",
    "    cur.execute(\"INSERT INTO PhoneAddress VALUES('0957209108','Taipei','Richard',29)\") \n",
    "    cur.execute(\"SELECT phone,address FROM PhoneAddress\")\n",
    "    data = cur.fetchall()\n",
    "    print data\n",
    "    for rec in data:\n",
    "        print rec[0], rec[1] \n",
    "con.close()"
   ]
  },
  {
   "cell_type": "code",
   "execution_count": 2,
   "metadata": {
    "collapsed": false
   },
   "outputs": [
    {
     "name": "stdout",
     "output_type": "stream",
     "text": [
      "Here Map買主確認！ 德國車廠聯手收購 2015-08-03 11:13\n",
      "為什麼要這樣逼我！9個讓男友起肖的問題 2015-08-03 11:12\n",
      "MLB》單局3轟 大都會橫掃國民 2015-08-03 11:12\n",
      "緊盯孩子暑假作業 仁德學童課輔營登場 2015-08-03 11:11\n",
      "蔡正元再轟反課綱 「背宗棄祖、認日作父」 2015-08-03 11:11\n",
      "影片瘋傳  學生建議吳思華「不要走從政這條路」 2015-08-03 11:07\n",
      "愚人節有喜  女歌手捧5月胎 2015-08-03 11:07\n",
      "姊妹通緝多年遭逮 直呼歹路不可行 2015-08-03 11:06\n",
      "自由開講》魔鬼藏身在細節裡 2015-08-03 11:06\n",
      "北管祖師爺聖誕逢父親節 同喜軒勤練扮仙慶祝 2015-08-03 11:06\n",
      "如何「違」調？又「黑箱」？學生發文宣報你知 2015-08-03 11:06\n",
      "張有恒就任華航總經理 2015-08-03 11:03\n",
      "警察直接進課堂找人  原因是… 2015-08-03 11:00\n",
      "MLB》光芒新秀邵薩 將缺陣至少一個月 2015-08-03 10:59\n",
      "超獵奇！SHINee遭砍頭 還被打飛眼球 2015-08-03 10:54\n",
      "扮鬼怪搭高鐵 歡慶中元音樂祭 2015-08-03 10:54\n",
      "林冠華母親籲馬總統：請給抗爭孩子溫暖回應 2015-08-03 10:53\n",
      "承認腐敗？中國官媒稱「官場不良風氣未根除」 2015-08-03 10:51\n",
      "政府強推新課綱 徐世榮：洗腦、霸凌 2015-08-03 10:50\n",
      "蝦米樂團樂音飄入花、東安養院 2015-08-03 10:50\n",
      "學甲頑皮世界野生動物園也辦畫展 有「藝」思 2015-08-03 10:49\n",
      "國一南下57公里處車禍 時速僅約30公里 2015-08-03 10:48\n",
      "\"不愛自己\"  星卉抗憂鬱症哭了  2015-08-03 10:47\n",
      "真是佛心來著 普濟寺、龍山寺捐款、捐設備 2015-08-03 10:47\n",
      "自由開講》寫在一條年輕生命殞落之後 2015-08-03 10:46\n"
     ]
    }
   ],
   "source": [
    "import requests\n",
    "from bs4 import BeautifulSoup\n",
    "res = requests.get('http://www.appledaily.com.tw/realtimenews/section/new/')\n",
    "soup  = BeautifulSoup(res.text)\n",
    "for ele in soup.select('.selectorgadget_border'):\n",
    "    print ele.select('.picword')[0].text, ele.select('span')[0].text"
   ]
  },
  {
   "cell_type": "code",
   "execution_count": 2,
   "metadata": {
    "collapsed": false
   },
   "outputs": [
    {
     "ename": "KeyboardInterrupt",
     "evalue": "",
     "output_type": "error",
     "traceback": [
      "\u001b[1;31m---------------------------------------------------------------------------\u001b[0m",
      "\u001b[1;31mKeyboardInterrupt\u001b[0m                         Traceback (most recent call last)",
      "\u001b[1;32m<ipython-input-2-bf826e8e9f02>\u001b[0m in \u001b[0;36m<module>\u001b[1;34m()\u001b[0m\n\u001b[0;32m     35\u001b[0m \u001b[0mres_get\u001b[0m \u001b[1;33m=\u001b[0m \u001b[0mres\u001b[0m\u001b[1;33m.\u001b[0m\u001b[0mget\u001b[0m\u001b[1;33m(\u001b[0m\u001b[1;34m'http://fyjud.lawbank.com.tw/listcontent5.aspx'\u001b[0m\u001b[1;33m,\u001b[0m \u001b[0mheaders\u001b[0m \u001b[1;33m=\u001b[0m \u001b[0mheader\u001b[0m\u001b[1;33m)\u001b[0m\u001b[1;33m\u001b[0m\u001b[0m\n\u001b[0;32m     36\u001b[0m \u001b[0msoup\u001b[0m \u001b[1;33m=\u001b[0m \u001b[0mBeautifulSoup\u001b[0m\u001b[1;33m(\u001b[0m\u001b[0mres_get\u001b[0m\u001b[1;33m.\u001b[0m\u001b[0mtext\u001b[0m\u001b[1;33m)\u001b[0m\u001b[1;33m\u001b[0m\u001b[0m\n\u001b[1;32m---> 37\u001b[1;33m \u001b[0mmkfile\u001b[0m\u001b[1;33m(\u001b[0m\u001b[0msoup\u001b[0m\u001b[1;33m)\u001b[0m\u001b[1;33m\u001b[0m\u001b[0m\n\u001b[0m\u001b[0;32m     38\u001b[0m \u001b[1;31m#print soup.select('.page tr td')[0]\u001b[0m\u001b[1;33m\u001b[0m\u001b[1;33m\u001b[0m\u001b[0m\n\u001b[0;32m     39\u001b[0m \u001b[1;33m\u001b[0m\u001b[0m\n",
      "\u001b[1;32m<ipython-input-2-bf826e8e9f02>\u001b[0m in \u001b[0;36mmkfile\u001b[1;34m(soup)\u001b[0m\n\u001b[0;32m      9\u001b[0m     \u001b[1;32mfor\u001b[0m \u001b[0mele\u001b[0m \u001b[1;32min\u001b[0m \u001b[0msoup\u001b[0m\u001b[1;33m.\u001b[0m\u001b[0mselect\u001b[0m\u001b[1;33m(\u001b[0m\u001b[1;34m'.Table-List tr td'\u001b[0m\u001b[1;33m)\u001b[0m\u001b[1;33m:\u001b[0m\u001b[1;33m\u001b[0m\u001b[0m\n\u001b[0;32m     10\u001b[0m             \u001b[1;32mif\u001b[0m \u001b[0mlen\u001b[0m\u001b[1;33m(\u001b[0m\u001b[0mele\u001b[0m\u001b[1;33m.\u001b[0m\u001b[0mselect\u001b[0m\u001b[1;33m(\u001b[0m\u001b[1;34m'a'\u001b[0m\u001b[1;33m)\u001b[0m\u001b[1;33m)\u001b[0m \u001b[1;33m>\u001b[0m \u001b[1;36m0\u001b[0m\u001b[1;33m:\u001b[0m\u001b[1;33m\u001b[0m\u001b[0m\n\u001b[1;32m---> 11\u001b[1;33m                 \u001b[0mdriver\u001b[0m \u001b[1;33m=\u001b[0m \u001b[0mwebdriver\u001b[0m\u001b[1;33m.\u001b[0m\u001b[0mFirefox\u001b[0m\u001b[1;33m(\u001b[0m\u001b[1;33m)\u001b[0m\u001b[1;33m\u001b[0m\u001b[0m\n\u001b[0m\u001b[0;32m     12\u001b[0m                 \u001b[0mdriver\u001b[0m\u001b[1;33m.\u001b[0m\u001b[0madd_cookie\u001b[0m\u001b[1;33m(\u001b[0m\u001b[0mheader\u001b[0m\u001b[1;33m)\u001b[0m\u001b[1;33m\u001b[0m\u001b[0m\n\u001b[0;32m     13\u001b[0m                 \u001b[0mdriver\u001b[0m\u001b[1;33m.\u001b[0m\u001b[0mget\u001b[0m\u001b[1;33m(\u001b[0m\u001b[1;34m\"http://fyjud.lawbank.com.tw/\"\u001b[0m \u001b[1;33m+\u001b[0m \u001b[0mele\u001b[0m\u001b[1;33m.\u001b[0m\u001b[0mselect\u001b[0m\u001b[1;33m(\u001b[0m\u001b[1;34m'a'\u001b[0m\u001b[1;33m)\u001b[0m\u001b[1;33m[\u001b[0m\u001b[1;36m0\u001b[0m\u001b[1;33m]\u001b[0m\u001b[1;33m[\u001b[0m\u001b[1;34m'href'\u001b[0m\u001b[1;33m]\u001b[0m\u001b[1;33m)\u001b[0m\u001b[1;33m\u001b[0m\u001b[0m\n",
      "\u001b[1;32mC:\\Python27\\lib\\site-packages\\selenium\\webdriver\\firefox\\webdriver.pyc\u001b[0m in \u001b[0;36m__init__\u001b[1;34m(self, firefox_profile, firefox_binary, timeout, capabilities, proxy, executable_path)\u001b[0m\n\u001b[0;32m     75\u001b[0m             RemoteWebDriver.__init__(self,\n\u001b[0;32m     76\u001b[0m             command_executor=ExtensionConnection(\"127.0.0.1\", self.profile,\n\u001b[1;32m---> 77\u001b[1;33m             self.binary, timeout),\n\u001b[0m\u001b[0;32m     78\u001b[0m             \u001b[0mdesired_capabilities\u001b[0m\u001b[1;33m=\u001b[0m\u001b[0mcapabilities\u001b[0m\u001b[1;33m,\u001b[0m\u001b[1;33m\u001b[0m\u001b[0m\n\u001b[0;32m     79\u001b[0m             keep_alive=True)\n",
      "\u001b[1;32mC:\\Python27\\lib\\site-packages\\selenium\\webdriver\\firefox\\extension_connection.pyc\u001b[0m in \u001b[0;36m__init__\u001b[1;34m(self, host, firefox_profile, firefox_binary, timeout)\u001b[0m\n\u001b[0;32m     47\u001b[0m         \u001b[0mself\u001b[0m\u001b[1;33m.\u001b[0m\u001b[0mprofile\u001b[0m\u001b[1;33m.\u001b[0m\u001b[0madd_extension\u001b[0m\u001b[1;33m(\u001b[0m\u001b[1;33m)\u001b[0m\u001b[1;33m\u001b[0m\u001b[0m\n\u001b[0;32m     48\u001b[0m \u001b[1;33m\u001b[0m\u001b[0m\n\u001b[1;32m---> 49\u001b[1;33m         \u001b[0mself\u001b[0m\u001b[1;33m.\u001b[0m\u001b[0mbinary\u001b[0m\u001b[1;33m.\u001b[0m\u001b[0mlaunch_browser\u001b[0m\u001b[1;33m(\u001b[0m\u001b[0mself\u001b[0m\u001b[1;33m.\u001b[0m\u001b[0mprofile\u001b[0m\u001b[1;33m)\u001b[0m\u001b[1;33m\u001b[0m\u001b[0m\n\u001b[0m\u001b[0;32m     50\u001b[0m         \u001b[0m_URL\u001b[0m \u001b[1;33m=\u001b[0m \u001b[1;34m\"http://%s:%d/hub\"\u001b[0m \u001b[1;33m%\u001b[0m \u001b[1;33m(\u001b[0m\u001b[0mHOST\u001b[0m\u001b[1;33m,\u001b[0m \u001b[0mPORT\u001b[0m\u001b[1;33m)\u001b[0m\u001b[1;33m\u001b[0m\u001b[0m\n\u001b[0;32m     51\u001b[0m         RemoteConnection.__init__(\n",
      "\u001b[1;32mC:\\Python27\\lib\\site-packages\\selenium\\webdriver\\firefox\\firefox_binary.pyc\u001b[0m in \u001b[0;36mlaunch_browser\u001b[1;34m(self, profile)\u001b[0m\n\u001b[0;32m     66\u001b[0m \u001b[1;33m\u001b[0m\u001b[0m\n\u001b[0;32m     67\u001b[0m         \u001b[0mself\u001b[0m\u001b[1;33m.\u001b[0m\u001b[0m_start_from_profile_path\u001b[0m\u001b[1;33m(\u001b[0m\u001b[0mself\u001b[0m\u001b[1;33m.\u001b[0m\u001b[0mprofile\u001b[0m\u001b[1;33m.\u001b[0m\u001b[0mpath\u001b[0m\u001b[1;33m)\u001b[0m\u001b[1;33m\u001b[0m\u001b[0m\n\u001b[1;32m---> 68\u001b[1;33m         \u001b[0mself\u001b[0m\u001b[1;33m.\u001b[0m\u001b[0m_wait_until_connectable\u001b[0m\u001b[1;33m(\u001b[0m\u001b[1;33m)\u001b[0m\u001b[1;33m\u001b[0m\u001b[0m\n\u001b[0m\u001b[0;32m     69\u001b[0m \u001b[1;33m\u001b[0m\u001b[0m\n\u001b[0;32m     70\u001b[0m     \u001b[1;32mdef\u001b[0m \u001b[0mkill\u001b[0m\u001b[1;33m(\u001b[0m\u001b[0mself\u001b[0m\u001b[1;33m)\u001b[0m\u001b[1;33m:\u001b[0m\u001b[1;33m\u001b[0m\u001b[0m\n",
      "\u001b[1;32mC:\\Python27\\lib\\site-packages\\selenium\\webdriver\\firefox\\firefox_binary.pyc\u001b[0m in \u001b[0;36m_wait_until_connectable\u001b[1;34m(self)\u001b[0m\n\u001b[0;32m    105\u001b[0m                       \"FirefoxBinary constructor, check it for details.\")\n\u001b[0;32m    106\u001b[0m             \u001b[0mcount\u001b[0m \u001b[1;33m+=\u001b[0m \u001b[1;36m1\u001b[0m\u001b[1;33m\u001b[0m\u001b[0m\n\u001b[1;32m--> 107\u001b[1;33m             \u001b[0mtime\u001b[0m\u001b[1;33m.\u001b[0m\u001b[0msleep\u001b[0m\u001b[1;33m(\u001b[0m\u001b[1;36m1\u001b[0m\u001b[1;33m)\u001b[0m\u001b[1;33m\u001b[0m\u001b[0m\n\u001b[0m\u001b[0;32m    108\u001b[0m         \u001b[1;32mreturn\u001b[0m \u001b[0mTrue\u001b[0m\u001b[1;33m\u001b[0m\u001b[0m\n\u001b[0;32m    109\u001b[0m \u001b[1;33m\u001b[0m\u001b[0m\n",
      "\u001b[1;31mKeyboardInterrupt\u001b[0m: "
     ]
    }
   ],
   "source": [
    "import requests\n",
    "from bs4 import BeautifulSoup\n",
    "import selenium.webdriver as webdriver\n",
    "import time\n",
    "\n",
    "header = {'Cookie':\"_ga=GA1.3.315582124.1439639620; ASP.NET_SessionId=bmkcxu45ma3att55z2vgwo45; nrhbne=2L/3N6APdJ5PNNNtUeC60A==; x=i=bAppOCZ4w8cIGc24sh4hYSUs1zngB8nBMTFm8mJpk7ofsxzKkhE026HvrsI4Uq/p&j=ExKZIgGGiQD19KUxjSulmQb58Xq9tzxh/6k2CZDMXMbqn+pyISjsF42Gyv8r7WXOTkoa3JCwbbHM8biWKkgIEorKgqDlPXMfuen4FdsImsD7uJ8WQypfOssTdn0Wq38q8emGfNDSHGmUm1CfJdyElhKbnPtorrRc5ygSLDDUZtWf311smicNLSqmG3dliw9kHKkkbibVbf59ySS131RzwplbFHmLRIbqHbbYVDbIUvGDICmOXg2a6/ag0E5SDGt+zhEfvNb9blm3papbplwi3Pbf5Mvu5Kx0Co9a/kvoC7drxqCB8Gis8+mDt1nwkqBJ; JubFrm-pagebox=%5EcourtFullName%3DTPDV%60SLDV%60PCDV%60ILDV%60KLDV%60TYDV%60SCDV%60MLDV%60TCDV%60CHDV%60NTDV%60ULDV%60CYDV%60TNDV%60KSDV%60HLDV%60TTDV%60PTDV%60PHDV%60KMDV%60LCDV%60%5Ekw%3D%E9%9B%A2%E5%A9%9A%5Ejcatagory%3D0%5Eissimple%3D-1; y=p=ga6YQzTxtX4nbb%2fpDcqvIM07FggqSot0hB3Cl97s1z8TMc%2fWW186zbQJXdXv2rFYvc5Y7otg9lmFOQuXlUjl8w%3d%3d; lawbank=08a28cc3e93b4035ba56261d2b42983a-39; _gat=1\"}\n",
    "\n",
    "def mkfile(soup):\n",
    "    for ele in soup.select('.Table-List tr td'):\n",
    "            if len(ele.select('a')) > 0:\n",
    "                driver = webdriver.Firefox()\n",
    "                driver.add_cookie(header)\n",
    "                driver.get(\"http://fyjud.lawbank.com.tw/\" + ele.select('a')[0]['href'])\n",
    "                soup2 = BeautifulSoup(driver.page_source)\n",
    "                if soup2.find('span') is not None:\n",
    "                    print '為防止自動程式干擾本系統正常運作，影響服務品質，請輸入驗證碼：'\n",
    "                    cat = raw_input()  \n",
    "                    driver = webdriver.Firefox()\n",
    "                    driver.add_cookie(header)\n",
    "                    driver.get(\"http://fyjud.lawbank.com.tw/\" + ele.select('a')[0]['href'])\n",
    "                    driver.find_element_by_name(\"CaptchaCodeTextBox\").clear()\n",
    "                    driver.find_element_by_name(\"CaptchaCodeTextBox\").send_keys(cat)\n",
    "                    driver.find_element_by_id(\"Button1\").click()\n",
    "                    driver.close()\n",
    "                    soup2 = BeautifulSoup(driver.page_source)\n",
    "                f = open('lawbank/%s.txt' %(ele.text), 'w')\n",
    "                for ele2 in soup2.select('.Table-List tr'):\n",
    "                    f.write(ele2.text.encode('utf-8'))\n",
    "    f.close()\n",
    "    time.sleep(3)\n",
    "\n",
    "res = requests.session()\n",
    "res_get = res.get('http://fyjud.lawbank.com.tw/listcontent5.aspx', headers = header)\n",
    "soup = BeautifulSoup(res_get.text)\n",
    "mkfile(soup)\n",
    "#print soup.select('.page tr td')[0]\n",
    "\n",
    "for i in range(2,579):\n",
    "    payload = {'__VIEWSTATE':soup.select('#__VIEWSTATE')[0]['value'] , '__EVENTVALIDATION':soup.select('#__EVENTVALIDATION')[0]['value'],'__EVENTTARGET':'lnkbtnOhmy2'}\n",
    "    res_post = res.post('http://fyjud.lawbank.com.tw/listcontent5.aspx', data = payload , headers = header)\n",
    "    soup = BeautifulSoup(res_post.text)\n",
    "    mkfile(soup)\n",
    "    \n",
    "#print soup.select('.page tr td')[0]\n",
    "#driver = webdriver.Firefox()\n",
    "#driver.get('http://fyjud.lawbank.com.tw/listcontent5.aspx')\n",
    "#driver.add_cookie(header)\n",
    "#driver.find_element_by_id(\"lnkbtnOhmy2\").click()\n",
    "#print driver.page_source\n",
    "#driver.close()"
   ]
  },
  {
   "cell_type": "code",
   "execution_count": 12,
   "metadata": {
    "collapsed": false
   },
   "outputs": [
    {
     "name": "stdout",
     "output_type": "stream",
     "text": [
      "3639\n",
      "<!DOCTYPE html PUBLIC \"-//W3C//DTD XHTML 1.0 Transitional//EN\" \"http://www.w3.org/TR/xhtml1/DTD/xhtml1-transitional.dtd\">\n",
      "<html xmlns=\"http://www.w3.org/1999/xhtml\"><head id=\"Head1\"><link type=\"text/css\" rel=\"stylesheet\" href=\"css/reset.css\" /><link type=\"text/css\" rel=\"stylesheet\" href=\"css/lawbank.css\" /><title>\n",
      "\t法源法律網--裁判書查詢\n",
      "</title><script type=\"text/javascript\" language=\"javascript\">\n",
      "        function dyniframesize(iframename) {\n",
      "             var pTar = null;\n",
      "            //var getFFVersion=navigator.userAgent.substring(navigator.userAgent.indexOf(\"Firefox\")).split(\"/\")[1];\n",
      "            //alert(getFFVersion);\n",
      "            var FFextraHeight = (navigator.userAgent.indexOf(\"Firefox\") &gt; -1) ? 16 : 0;\n",
      "                        \n",
      "            if (document.getElementById) {\n",
      "                pTar = document.getElementById(iframename);\n",
      "            }\n",
      "            else {\n",
      "                eval('pTar = ' + iframename + ';');\n",
      "            }\n",
      "            if (pTar &amp;&amp; !window.opera) {\n",
      "                //begin resizing iframe\n",
      "                pTar.style.display = \"block\"\n",
      "                var iframeHeight = pTar.contentWindow.document.body.scrollHeight\n",
      "                if (FFextraHeight &gt; 0 &amp;&amp; pTar.contentDocument &amp;&amp; pTar.contentDocument.body.offsetHeight) {\n",
      "                    //ns6 syntax\n",
      "                    pTar.height = pTar.contentDocument.body.offsetHeight + FFextraHeight + 40;\n",
      "                }\n",
      "                else if (pTar.Document &amp;&amp; pTar.Document.body.scrollHeight) {\n",
      "                    //ie5+ syntax\n",
      "                    pTar.height = pTar.Document.body.scrollHeight + 40;\n",
      "                }\n",
      "                else if (iframeHeight &gt; 0) {\n",
      "                //chrome + ns7\n",
      "                    pTar.height = pTar.contentWindow.document.body.scrollHeight+50;\n",
      "                }\n",
      "            }\n",
      "        }\n",
      "    </script></head>\n",
      "    \n",
      "<body>\n",
      "    <form id=\"form1\" action=\"list2.aspx\" method=\"post\" name=\"form1\">\n",
      "<div>\n",
      "<input type=\"hidden\" value=\"/wEPDwUKMTUwNDY0NTkxM2RklQ+k62FeOR6iOZljSjWRQCUT9AU=\" id=\"__VIEWSTATE\" name=\"__VIEWSTATE\" />\n",
      "</div>\n",
      "\n",
      "<div>\n",
      "\n",
      "\t<input type=\"hidden\" value=\"2CD68F97\" id=\"__VIEWSTATEGENERATOR\" name=\"__VIEWSTATEGENERATOR\" />\n",
      "</div>\n",
      "    \n",
      "<script src=\"/js/GoogleAnalytics.js\" type=\"text/javascript\"></script>\n",
      "<div id=\"main\">\n",
      "    <div id=\"header\">\n",
      "        <a title=\"法源法律網\" href=\"http://www.lawbank.com.tw/index.aspx\"><span class=\"logo\">法源法律網</span></a>\n",
      "\t\t<span class=\"header-menu\">\n",
      "        \t<span class=\"menu01\">\n",
      "                <ul>\n",
      "                  <li><a title=\"回首頁\" href=\"http://www.lawbank.com.tw/\"><span class=\"home\">回首頁</span></a></li>\n",
      "                  <li><a title=\"網站導覽\" href=\"http://www.lawbank.com.tw/event/sitemap.aspx\"><span class=\"sitemap\">網站導覽</span></a></li>\n",
      "            \t</ul>\n",
      "            </span>\n",
      "            <span class=\"menu02\">\n",
      "                <ul>\n",
      "                  \n",
      "                  <li><img alt=\"*\" src=\"images/icon_round.gif\" /><a onclick=\"return confirm('您確定要登出系統嗎？');\" href=\"http://www.lawbank.com.tw/Logout.ashx\">會員登出</a></li>\n",
      "                  <li class=\"menu-BuyPoint\"><img alt=\"*\" src=\"images/icon_round.gif\" /><a href=\"http://www.lawbank.com.tw/member/BuyAuth.aspx\">購買授權與點數</a></li>\n",
      "                   \n",
      "                  <li><img alt=\"*\" src=\"images/icon_round.gif\" /><a onclick=\"setHome()\" href=\"#\">設為首頁</a></li>\n",
      "                  <li class=\"menu-OldEpaper\"><img alt=\"*\" src=\"images/icon_round.gif\" /><a href=\"http://www.lawbank.com.tw/epaper/epaperlist.aspx\">訂閱舊報</a></li>\n",
      "                </ul>\n",
      "                    <div class=\"epaper\">\n",
      "                \t    <div class=\"input-box\">法源電子報<input type=\"text\" maxlength=\"128\" onclick=\"ValueClean(this);\" class=\"lawbox\" value=\"請輸入電子信箱\" id=\"txtmail\" name=\"txtmail\" /></div>                        \n",
      "                \t    <div class=\"search-buttom\">\n",
      "                \t     <a onclick=\"return SubEpaper('Sub')\" href=\"#\"><img alt=\"\" src=\"images/btn_epaper.gif\" /></a>\n",
      "                         <a onclick=\"return SubEpaper('Cancle')\" href=\"#\"><img alt=\"取消訂閱電子報\" src=\"images/btn_epaperCAL.gif\" /></a>\n",
      "                        </div>\n",
      "                    </div>\n",
      "            </span>\n",
      "      </span>\n",
      "    </div>\n",
      "    <!--主選單 開始-->\n",
      "\t<div id=\"main-menu\">\n",
      "\t\t<ul class=\"nav\">\n",
      "            <li class=\"nav-LawNews\"><a title=\"法律新訊\" href=\"http://www.lawbank.com.tw/news/NewsSearch.aspx\">法律新訊</a></li>\n",
      "            <li class=\"nav-LawSearch\"><a title=\"法規查詢\" href=\"http://db.lawbank.com.tw/FLAW\">法規查詢</a></li>\n",
      "            <li class=\"nav-LawClass\"><a title=\"法規類別\" href=\"http://db.lawbank.com.tw/FSYS\">法規類別</a></li>\n",
      "            <li class=\"nav-LawSolution\"><a title=\"判解函釋\" href=\"http://db.lawbank.com.tw/FINT\">判解函釋</a></li>\n",
      "            <li class=\"nav-LawReferee current\"><a title=\"裁判書\" href=\"index.aspx\">裁判書</a></li>\n",
      "\t\t\t<li class=\"nav-LawEnglish\"><a title=\"英譯法規\" href=\"http://db.lawbank.com.tw//Eng\">英譯法規</a></li>\n",
      "            <li class=\"nav-LawTreatise\"><a title=\"法學論著\" href=\"http://www.lawbank.com.tw/treatise/query.aspx\">法學論著</a></li>\n",
      "            <li class=\"nav-LawExam\"><a title=\"法學題庫\" href=\"http://www.lawbank.com.tw/exam/index.aspx\">法學題庫</a></li>\n",
      "\t\t\t<li class=\"nav-LawMember\"><a title=\"會員專區\" href=\"http://www.lawbank.com.tw//member/ManageFolder.aspx\">會員專區</a></li>\n",
      "            <li class=\"nav-LawAuthor\"><a title=\"授權專區\" href=\"http://www.lawbank.com.tw//author/index.aspx\">授權專區</a></li>\n",
      "            <li class=\"nav-LawReceivedZone\"><a title=\"論著投稿\" href=\"http://www.lawbank.com.tw//contributor/index.aspx\">論著投稿</a></li>\n",
      "\t\t\t<li class=\"nav-LawMenuEnd\"><a title=\"\" href=\"#\"></a></li>\n",
      "        </ul>\n",
      "\t</div>\n",
      "\t<iframe width=\"100\" height=\"100\" style=\"display:none\" src=\"http://www.lawbank.com.tw/CheckSessionLive.aspx\"></iframe>\n",
      "    \n",
      "\n",
      "    <!--中間內容 開始-->\n",
      "    <div id=\"Law-Content\">\n",
      "        <div class=\"pageTitle\">裁判書查詢</div>\n",
      "        <!--法律新聞 開始-->\n",
      "        <div id=\"pagebox\">\n",
      "            <div id=\"law-search\">\n",
      "                <table width=\"100%\" cellpadding=\"0\" border=\"0\" align=\"center\">\n",
      "                    <tbody><tr height=\"600px\">\n",
      "                        <td width=\"180\" valign=\"top\" bgcolor=\"#D8E7FA\">\n",
      "                            <iframe width=\"176\" height=\"64\" frameborder=\"0\" name=\"menuFrame\" id=\"menuFrame\" scrolling=\"no\" src=\"listmenu2.aspx?courtFullName=LCDV&amp;v_court=&amp;v_sys=&amp;jud_year=&amp;jud_case=&amp;jud_no=&amp;jud_title=%e9%9b%a2%e5%a9%9a&amp;jud_jmain=&amp;keyword=&amp;sdate=&amp;edate=&amp;file=&amp;page=&amp;id=&amp;searchkw=&amp;jcatagory=0&amp;switchFrom=&amp;issimple=-1&amp;jminmoney=&amp;jmaxmoney=&amp;jminyear=&amp;jmaxyear=&amp;txtjudge=&amp;txtlawyer=&amp;lc1a=&amp;lc1b=&amp;lc1c=\" onload=\"dyniframesize('menuFrame')\" style=\"display: block;\">\n",
      "                            </iframe>\n",
      "                        </td>\n",
      "                        <td width=\"742\" valign=\"top\">\n",
      "                            <iframe width=\"100%\" height=\"741\" frameborder=\"0\" name=\"contentFrame\" id=\"contentFrame\" scrolling=\"no\" src=\"listcontent4.aspx?courtFullName=LCDV&amp;v_court=&amp;v_sys=&amp;jud_year=&amp;jud_case=&amp;jud_no=&amp;jud_title=%e9%9b%a2%e5%a9%9a&amp;jud_jmain=&amp;keyword=&amp;sdate=&amp;edate=&amp;file=&amp;page=&amp;id=&amp;searchkw=&amp;jcatagory=0&amp;switchFrom=&amp;issimple=-1&amp;jminmoney=&amp;jmaxmoney=&amp;jminyear=&amp;jmaxyear=&amp;txtjudge=&amp;txtlawyer=&amp;lc1a=&amp;lc1b=&amp;lc1c=\" onload=\"dyniframesize('contentFrame')\" style=\"display: block;\">\n",
      "                            </iframe>\n",
      "                        </td>\n",
      "                    </tr>\n",
      "                </tbody></table>\n",
      "            </div>\n",
      "        </div>\n",
      "    </div>\n",
      "    </div>\n",
      "<div class=\"clear\"></div>\n",
      "<div id=\"footer\">\n",
      "<div id=\"footer-Info\">\n",
      "\t<a title=\"法源法律網\" href=\"http://www.lawbank.com.tw\"><span class=\"logo\">法源法律網</span></a>\n",
      "    <span class=\"footer-menu\">\n",
      "    \t<div class=\"nav\">\n",
      "            <ul>\n",
      "                <li><a href=\"http://www.lawbank.com.tw/about/profile.aspx\">關於法源</a></li>\n",
      "                <li>｜<a href=\"http://www.lawbank.com.tw/event/declare01.aspx\">使用規範</a></li>\n",
      "                <li>｜<a href=\"http://www.lawbank.com.tw/event/declare02.aspx\">策略聯盟</a></li>\n",
      "                <li>｜<a href=\"http://www.lawbank.com.tw/vip/general-service.aspx\">聯絡我們</a></li>\n",
      "            </ul>\n",
      "        </div>\n",
      "        <div id=\"note\">\n",
      "          <ul>\n",
      "                        <li><span class=\"txt02\">法源資訊股份有限公司 　Lex Data Information Inc.</span>　<span class=\"txt01\">建議將畫面解析度設定為1024*768</span></li>\n",
      "                        <li>台北市南京東路二段 150 號 6 樓 　6F.,No.150,Sec.2,Nanjing E. RD., Taipei City Taiwan 104,R.O.C.</li>\n",
      "                        <li>E-mail : <a href=\"mailto:lawbank@lawbank.com.tw\">lawbank@lawbank.com.tw</a> 　TEL：886-2-2509-3536 　FAX：886-2-2503-1122</li>\n",
      "                        <li>著作權所有 未經正式書面授權 禁止重製轉載節錄 敬請詳閱<a href=\"http://www.lawbank.com.tw/event/declare01.aspx\">使用規範</a></li>\n",
      "                    </ul>\n",
      "        </div>\n",
      "\t</span>\n",
      "</div>\n",
      "</div>\n",
      "<div id=\"toTop\">返回功能列</div>\n",
      "    <input type=\"hidden\" value=\"inner\" id=\"inner\" name=\"inner\" />\n",
      "    </form>\n",
      "\n",
      "\n",
      "</body></html>\n"
     ]
    }
   ],
   "source": [
    "# -*- coding: utf-8 -*-\n",
    "from selenium import webdriver\n",
    "from selenium.webdriver.common.by import By\n",
    "from selenium.webdriver.common.keys import Keys\n",
    "from selenium.webdriver.support.ui import Select\n",
    "from selenium.common.exceptions import NoSuchElementException\n",
    "from selenium.common.exceptions import NoAlertPresentException\n",
    "import unittest, time, re\n",
    "\n",
    "\n",
    "    \n",
    "driver = webdriver.Firefox()   \n",
    "driver.get(\"http://fyjud.lawbank.com.tw/\")\n",
    "driver.find_element_by_id(\"txt_input\").clear()\n",
    "driver.find_element_by_id(\"txt_input\").send_keys(\"\")\n",
    "driver.find_element_by_css_selector(\"tr.lawtable-bottom2 > td.lawtable-right > label > input[name=\\\"courtFullName\\\"]\").click()\n",
    "driver.find_element_by_id(\"jt\").clear()\n",
    "driver.find_element_by_id(\"jt\").send_keys(u\"離婚\")\n",
    "cat = raw_input()\n",
    "driver.find_element_by_name(\"txt_input\").clear()\n",
    "driver.find_element_by_name(\"txt_input\").send_keys(cat)\n",
    "driver.find_element_by_css_selector(\"input[type=\\\"image\\\"]\").click()\n",
    "    \n",
    "print driver.page_source"
   ]
  },
  {
   "cell_type": "code",
   "execution_count": 10,
   "metadata": {
    "collapsed": false
   },
   "outputs": [
    {
     "data": {
      "text/plain": [
       "<matplotlib.image.AxesImage at 0x58c2270>"
      ]
     },
     "execution_count": 10,
     "metadata": {},
     "output_type": "execute_result"
    }
   ],
   "source": [
    "import matplotlib.pyplot as plt\n",
    "import cv2\n",
    "image = cv2.imread(\"CaptchaImage.jpg\")\n",
    "plt.imshow(image)\n"
   ]
  },
  {
   "cell_type": "code",
   "execution_count": 28,
   "metadata": {
    "collapsed": false
   },
   "outputs": [],
   "source": [
    "from selenium import webdriver\n",
    "from selenium.webdriver.common.by import By\n",
    "from selenium.webdriver.common.keys import Keys\n",
    "from selenium.webdriver.support.ui import Select\n",
    "from selenium.common.exceptions import NoSuchElementException\n",
    "from selenium.common.exceptions import NoAlertPresentException\n",
    "import unittest, time, re\n",
    "\n",
    "chromedriver = \"C:\\chromedriver_win32\\chromedriver.exe\"\n",
    "driver = webdriver.Chrome(chromedriver)\n",
    "driver.implicitly_wait(30)\n",
    "driver.get(\"http://jirs.judicial.gov.tw//FJUD/FJUDQRY01_1.aspx\")\n",
    "Select(driver.find_element_by_name(\"v_court\")).select_by_visible_text(u\"臺灣臺北地方法院\")\n",
    "driver.find_elements_by_name('v_sys')[1].click()        "
   ]
  },
  {
   "cell_type": "code",
   "execution_count": null,
   "metadata": {
    "collapsed": true
   },
   "outputs": [],
   "source": []
  }
 ],
 "metadata": {
  "kernelspec": {
   "display_name": "Python 2",
   "language": "python",
   "name": "python2"
  },
  "language_info": {
   "codemirror_mode": {
    "name": "ipython",
    "version": 2
   },
   "file_extension": ".py",
   "mimetype": "text/x-python",
   "name": "python",
   "nbconvert_exporter": "python",
   "pygments_lexer": "ipython2",
   "version": "2.7.10"
  }
 },
 "nbformat": 4,
 "nbformat_minor": 0
}
